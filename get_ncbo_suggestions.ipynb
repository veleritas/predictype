{
 "cells": [
  {
   "cell_type": "markdown",
   "metadata": {},
   "source": [
    "Toby & Sandip\n",
    "\n",
    "2015-11-19\n",
    "\n",
    "Predictive text entry"
   ]
  },
  {
   "cell_type": "code",
   "execution_count": 1,
   "metadata": {
    "collapsed": true
   },
   "outputs": [],
   "source": [
    "from collections import namedtuple\n",
    "import requests"
   ]
  },
  {
   "cell_type": "code",
   "execution_count": 2,
   "metadata": {
    "collapsed": true
   },
   "outputs": [],
   "source": [
    "API_KEY = \"ef3fb12d-cbe4-44a6-8273-263cf896e87b\""
   ]
  },
  {
   "cell_type": "markdown",
   "metadata": {},
   "source": [
    "Input: a string representing the latest snippet of text the user has typed.\n",
    "\n",
    "Output: a list of (text, identifier) tuples ranked by the percent match of the current text to the concept typed."
   ]
  },
  {
   "cell_type": "code",
   "execution_count": 3,
   "metadata": {
    "collapsed": true
   },
   "outputs": [],
   "source": [
    "def query_ncbo(text):\n",
    "    \"\"\"Query NCBO with a text snippet using the look ahead\n",
    "    suggest function and return the response as a JSON object.\n",
    "    \"\"\"\n",
    "    url = \"http://data.bioontology.org/search\"\n",
    "    \n",
    "    params = {\n",
    "        \"apikey\" : API_KEY,\n",
    "        \"ontologies\" : \"MESH\",\n",
    "        \"suggest\": True,\n",
    "        \"also_search_obsolete\": False,\n",
    "        \"q\" : text\n",
    "    }\n",
    "    \n",
    "    resp = requests.get(url, params = params)\n",
    "    assert resp.status_code == requests.codes.ok\n",
    "    return resp.json()\n",
    "    \n",
    "def get_suggestions(text):\n",
    "    resp = query_ncbo(text)\n",
    "    \n",
    "    # if a person wants to type a synonym for a concept,\n",
    "    # we will return the preferred label as the suggested text\n",
    "    # which will make any later NER processing much easier\n",
    "   \n",
    "    Concept = namedtuple(\"Concept\", [\"name\", \"id\"])\n",
    "    \n",
    "    suggestions = []\n",
    "    for concept in resp[\"collection\"]:\n",
    "        pref_name = concept[\"prefLabel\"]\n",
    "        identifier = \"MESH:{}\".format(concept[\"@id\"][-7:])\n",
    "        \n",
    "        suggestions.append(Concept(pref_name, identifier))\n",
    "        \n",
    "    return suggestions"
   ]
  },
  {
   "cell_type": "code",
   "execution_count": 4,
   "metadata": {
    "collapsed": false
   },
   "outputs": [
    {
     "data": {
      "text/plain": [
       "[Concept(name='tum protein, Enterobacteria phage 186', id='MESH:C099332'),\n",
       " Concept(name='RacGap50C protein, Drosophila', id='MESH:C502951')]"
      ]
     },
     "execution_count": 4,
     "metadata": {},
     "output_type": "execute_result"
    }
   ],
   "source": [
    "get_suggestions(\"tum\")"
   ]
  },
  {
   "cell_type": "code",
   "execution_count": null,
   "metadata": {
    "collapsed": true
   },
   "outputs": [],
   "source": []
  }
 ],
 "metadata": {
  "kernelspec": {
   "display_name": "Python 3",
   "language": "python",
   "name": "python3"
  },
  "language_info": {
   "codemirror_mode": {
    "name": "ipython",
    "version": 3
   },
   "file_extension": ".py",
   "mimetype": "text/x-python",
   "name": "python",
   "nbconvert_exporter": "python",
   "pygments_lexer": "ipython3",
   "version": "3.4.2"
  }
 },
 "nbformat": 4,
 "nbformat_minor": 0
}
